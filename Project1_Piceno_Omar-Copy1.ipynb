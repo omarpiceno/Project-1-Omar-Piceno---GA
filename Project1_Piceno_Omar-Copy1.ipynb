{
 "cells": [
  {
   "cell_type": "code",
   "execution_count": 8,
   "metadata": {},
   "outputs": [
    {
     "name": "stdout",
     "output_type": "stream",
     "text": [
      "906609\n"
     ]
    }
   ],
   "source": [
    "## create a function to determine if any number is palindromic\n",
    "def palin(test_num):\n",
    "    ## input any number\n",
    "    x = test_num\n",
    "    ## convert that number to string\n",
    "    num = str(x)\n",
    "    ## Check the string if it has and even or odd length \n",
    "    if len(num)%2==0:\n",
    "        ## slice the length of string for even number \n",
    "        length = int(len(num)/2)\n",
    "        ## devide the number in 2 parts, part_1 & part_2\n",
    "        part_1 = num[:length]\n",
    "        len_part_2 = length - 1\n",
    "        part_2 = num[:len_part_2:-1]\n",
    "        ## return True for a palindrome number \n",
    "        return part_1 == part_2\n",
    "    \n",
    "    else:\n",
    "        ## slice the length of string for odd number\n",
    "        length = int(len(num)//2)\n",
    "        length_back = length + 1\n",
    "        ## devide the number in 2 parts, part_1 & part_2\n",
    "        part_1 = num[:length]\n",
    "        len_part_2 = length\n",
    "        part_2 = num[:len_part_2:-1]\n",
    "        ## return True for a palindrome number\n",
    "        return part_1 == part_2\n",
    "    \n",
    "## Initialize an empty list for all palindromes numbers from a multiplication of two 3 digit numbers\n",
    "lst_palin = []\n",
    "## Iterate backwards from a 3 digit number\\n\",\n",
    "for x in range(999,99,-1):\n",
    "## nested loop with same iteration as above\\n\",\n",
    "    for y in range(999,99,-1):\n",
    "        ## multiply numbers x and y \\n\",\n",
    "        mult = x*y\n",
    "        ## use a condition and use the function palin(test_num) to check if a number is a palindrome\n",
    "        if palin(mult) == True:\n",
    "        ## If True, then append that number to the lst_palin\n",
    "            lst_palin.append(mult)\n",
    "## Find max palin number in lst_palin\n",
    "print(max(lst_palin))"
   ]
  },
  {
   "cell_type": "code",
   "execution_count": 15,
   "metadata": {},
   "outputs": [
    {
     "name": "stdout",
     "output_type": "stream",
     "text": [
      "277050\n"
     ]
    }
   ],
   "source": [
    "## FIND THE SUMMATION OF PRIMES BELOW 2000\n",
    "## Create an empty list with primes\n",
    "primes = []\n",
    "num = 2000\n",
    "## Iterate over the length of number to check whether a number is prime or not\n",
    "for x in range(2,num):\n",
    "    ##assumption that number is prime\n",
    "    isPrime = True\n",
    "    #nested for loop to iterate over a specific number\n",
    "    for y in range(2,x):        \n",
    "    #condition to check whether a value has remainder 0, meaning it has another multiple\n",
    "        if x%y == 0:\n",
    "        #if remainder is zero then that x-value is not a prime\n",
    "            isPrime = False\n",
    "            \n",
    "    # if the condition checks False above then the number has to be a prime\n",
    "    if isPrime == True:\n",
    "    # add prime to the list primes\n",
    "        primes.append(x)\n",
    "# sum the list of primes\n",
    "print(sum(primes))"
   ]
  },
  {
   "cell_type": "code",
   "execution_count": 16,
   "metadata": {},
   "outputs": [
    {
     "name": "stdout",
     "output_type": "stream",
     "text": [
      "1065333\n"
     ]
    }
   ],
   "source": [
    "## FIND THE MULTIPLES OF 3 AND 5 BELOW 1000\n",
    "num = 2000\n",
    "## Initialize the total summation of multiples of 3 and 5\n",
    "total_3 = 0 \n",
    "total_5 = 0 \n",
    "## Loop over the 2000 numbers to find the multiples of 3 and 5 below 2000\n",
    "for i in range(num):\n",
    "    mult_three = i * 3\n",
    "    mult_five = i * 5\n",
    "    ## Condition where multiple have to be below 2000\n",
    "    if mult_three < num:\n",
    "    ## Counter that adds the multiples of 3\n",
    "        total_3 += mult_three\n",
    "    if mult_five < num:\n",
    "    ## Counter that adds the multiples of 5\n",
    "        total_5 += mult_five\n",
    "## Sum the total summation of multiples of 3's and 5's \n",
    "total_sum = total_3 + total_5\n",
    "print(total_sum)"
   ]
  },
  {
   "cell_type": "code",
   "execution_count": 17,
   "metadata": {},
   "outputs": [
    {
     "name": "stdout",
     "output_type": "stream",
     "text": [
      "a2b1c5a3\n"
     ]
    }
   ],
   "source": [
    "## STRING COMPRESSION\n",
    "## create a function that whether returns a compressed string or the string provided\n",
    "def string_compression(string):\n",
    "    ## Case sensitive\n",
    "    string = string.lower()\n",
    "    ## Variable to save the length of the string in index formatting\n",
    "    length_index = len(string) - 1\n",
    "    ## Initialize counter\n",
    "    count = 1\n",
    "    ## Create a list to append new format\n",
    "    new_string = []\n",
    "    ## Unpack letter and index number from the string\n",
    "    for index,letter in enumerate(string):\n",
    "        ## Access the next element in the string \n",
    "        next_index = index + 1\n",
    "        ## condition that allows access to all elements before the last element\n",
    "        if next_index < length_index:\n",
    "            ## condition that evaluates if a letter is the same as the following\n",
    "            if string[index] == string[next_index]:\n",
    "                count += 1\n",
    "        ## if letter is different than the next one, will initialize counter to 1 and append the iterable and counter to new_list\n",
    "            else:\n",
    "                first_chunk = letter + str(count)\n",
    "                count = 1\n",
    "                new_string.append(first_chunk)\n",
    "        ## condition that applies to the second to last letter in the string\n",
    "        else:\n",
    "            ## same inner loop from above\n",
    "            if string[index] == string[length_index]:\n",
    "                count += 1\n",
    "                second_chunk = letter + str(count)\n",
    "                new_string.append(second_chunk)\n",
    "                break\n",
    "            ## same as inner loop from above   \n",
    "            else:\n",
    "                second_chunk = letter + str(count)\n",
    "                new_string.append(second_chunk)\n",
    "                count = 1\n",
    "                third_chunk = string[length_index] + str(count)\n",
    "                new_string.append(third_chunk)\n",
    "                break\n",
    "    ## join the compressed new string                 \n",
    "    new_string = ''.join(new_string)\n",
    "    ## evaluate if new_string is shorter than the actual string\n",
    "    if len(new_string) < len(string):\n",
    "    ## if true return the new formatted string\n",
    "        return new_string\n",
    "    else:\n",
    "    ## otherwise return the actual string\n",
    "        return string\n",
    "            \n",
    "print(string_compression('aabcccccaaa'))"
   ]
  },
  {
   "cell_type": "code",
   "execution_count": null,
   "metadata": {},
   "outputs": [],
   "source": []
  }
 ],
 "metadata": {
  "kernelspec": {
   "display_name": "Python 3",
   "language": "python",
   "name": "python3"
  },
  "language_info": {
   "codemirror_mode": {
    "name": "ipython",
    "version": 3
   },
   "file_extension": ".py",
   "mimetype": "text/x-python",
   "name": "python",
   "nbconvert_exporter": "python",
   "pygments_lexer": "ipython3",
   "version": "3.6.4"
  }
 },
 "nbformat": 4,
 "nbformat_minor": 2
}
